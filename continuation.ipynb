{
 "cells": [
  {
   "cell_type": "code",
   "execution_count": 2,
   "metadata": {},
   "outputs": [
    {
     "name": "stderr",
     "output_type": "stream",
     "text": [
      "/Users/Martin/anaconda3/lib/python3.6/site-packages/h5py/__init__.py:36: FutureWarning: Conversion of the second argument of issubdtype from `float` to `np.floating` is deprecated. In future, it will be treated as `np.float64 == np.dtype(float).type`.\n",
      "  from ._conv import register_converters as _register_converters\n"
     ]
    }
   ],
   "source": [
    "%load_ext autoreload\n",
    "%autoreload 2\n",
    "import tensorflow as tf\n",
    "from trainer import continuation"
   ]
  },
  {
   "cell_type": "code",
   "execution_count": 3,
   "metadata": {},
   "outputs": [],
   "source": [
    "class flags():\n",
    "    \n",
    "    def __init__(self):\n",
    "        self.vocab_size = 20000\n",
    "        self.embed_size = 100\n",
    "        self.hidden_size = 1024\n",
    "        self.sentence_length = 30\n",
    "        self.clip_norm = 5\n",
    "        self.batch_size = 64\n",
    "        self.epochs = 10\n",
    "        self.out_dir = 'out'\n",
    "        self.experiment = 'A'\n",
    "        self.projection_size = 512\n",
    "        self.down_project = True\n",
    "        self.out_dir = 'out'\n",
    "        self.experiment = 'C'\n",
    "        self.sentence_cont_length = 100\n",
    "        \n",
    "FLAGS = flags()"
   ]
  },
  {
   "cell_type": "code",
   "execution_count": 5,
   "metadata": {},
   "outputs": [
    {
     "name": "stdout",
     "output_type": "stream",
     "text": [
      "Building LSTM\n",
      "Loading word2index\n",
      "Restoring weights from the checkpoint out/C/iteration_70000\n",
      "INFO:tensorflow:Restoring parameters from out/C/iteration_70000\n",
      "Computing the continuations\n",
      "\n",
      "he wrote this code but he was n't going to be able to get any information to the police station . <eos>\n",
      "jacob was already twenty-seven but i was n't going to be able to get him to be a good person . <eos>\n",
      "sarah was not a child , but she was n't . <eos>\n",
      "my friend that smokes the car , i thought . <eos>\n",
      "stan is a good friend , and i do n't care if he 's going to be able to get it back . <eos>\n"
     ]
    }
   ],
   "source": [
    "sentences = [\"he wrote this code but\",\n",
    "             'jacob was already twenty-seven but',\n",
    "             \"sarah was not\",\n",
    "             'my friend that smokes',\n",
    "             \"stan is\"]\n",
    "continuation(FLAGS, sentences, use_unknown = False)"
   ]
  },
  {
   "cell_type": "code",
   "execution_count": null,
   "metadata": {},
   "outputs": [],
   "source": []
  }
 ],
 "metadata": {
  "kernelspec": {
   "display_name": "Python 3",
   "language": "python",
   "name": "python3"
  },
  "language_info": {
   "codemirror_mode": {
    "name": "ipython",
    "version": 3
   },
   "file_extension": ".py",
   "mimetype": "text/x-python",
   "name": "python",
   "nbconvert_exporter": "python",
   "pygments_lexer": "ipython3",
   "version": "3.6.8"
  }
 },
 "nbformat": 4,
 "nbformat_minor": 2
}
